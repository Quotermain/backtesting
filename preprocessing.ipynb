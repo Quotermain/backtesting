{
 "cells": [
  {
   "cell_type": "markdown",
   "id": "excessive-newman",
   "metadata": {},
   "source": [
    "# Parsing file with bacjtesting result"
   ]
  },
  {
   "cell_type": "code",
   "execution_count": 1,
   "id": "narrow-candidate",
   "metadata": {},
   "outputs": [],
   "source": [
    "import pickle"
   ]
  },
  {
   "cell_type": "code",
   "execution_count": 16,
   "id": "recreational-transcript",
   "metadata": {},
   "outputs": [],
   "source": [
    "with open('result.pickle', 'rb') as file:\n",
    "    backtesting_result = pickle.load(file)"
   ]
  },
  {
   "cell_type": "code",
   "execution_count": 17,
   "id": "olive-badge",
   "metadata": {},
   "outputs": [],
   "source": [
    "backtesting_result = [byte_string.decode(\"utf-8\") for byte_string in backtesting_result]"
   ]
  },
  {
   "cell_type": "code",
   "execution_count": 18,
   "id": "important-copyright",
   "metadata": {},
   "outputs": [],
   "source": [
    "# '--' is added as the separator to extract ticker and final financial result\n",
    "backtesting_result = [string.split('--') for string in backtesting_result]"
   ]
  },
  {
   "cell_type": "code",
   "execution_count": null,
   "id": "sealed-catering",
   "metadata": {},
   "outputs": [],
   "source": [
    "len()"
   ]
  },
  {
   "cell_type": "code",
   "execution_count": 22,
   "id": "weighted-violin",
   "metadata": {},
   "outputs": [],
   "source": [
    "# Only the second element has the needed result\n",
    "bt_result = []\n",
    "for result in backtesting_result:\n",
    "    try:\n",
    "        bt_result.append(result[1])\n",
    "    except Exception as e:\n",
    "        continue"
   ]
  },
  {
   "cell_type": "code",
   "execution_count": 23,
   "id": "applicable-firmware",
   "metadata": {},
   "outputs": [],
   "source": [
    "# Forms a dict from the string of format 'ticker financial_result' and filtes it\n",
    "bt_result = {\n",
    "    result.split(' ')[0]: result.split(' ')[1] for result in bt_result\n",
    "    if float(result.split(' ')[1]) > 100000\n",
    "}"
   ]
  },
  {
   "cell_type": "code",
   "execution_count": 24,
   "id": "saving-rough",
   "metadata": {},
   "outputs": [],
   "source": [
    "bt_result = dict(sorted(bt_result.items(), key=lambda item: item[1], reverse=True))"
   ]
  },
  {
   "cell_type": "code",
   "execution_count": 25,
   "id": "northern-nebraska",
   "metadata": {},
   "outputs": [
    {
     "data": {
      "text/plain": [
       "{'MAIL': '112313.19671999993',\n",
       " 'ABRD': '110564.45145000062',\n",
       " 'QIWI': '105337.71375000002',\n",
       " 'SMLT': '105242.84631999994',\n",
       " 'MDMG': '104735.84589000022',\n",
       " 'MSTT': '104244.32734999998',\n",
       " 'KBTK': '103717.90974000003',\n",
       " 'HHRU': '103664.24607999995',\n",
       " 'RNFT': '103599.64870000012',\n",
       " 'NKNC': '103148.46912999991',\n",
       " 'VZRZP': '103110.85880000003',\n",
       " 'VLHZ': '103080.35582499993',\n",
       " 'PHOR': '103058.56080000005',\n",
       " 'TGKDP': '102943.81703725757',\n",
       " 'PMSB': '102913.69350999995',\n",
       " 'VSMO': '102840.35800000002',\n",
       " 'RKKE': '102838.71',\n",
       " 'WTCM': '102793.75296000001',\n",
       " 'MRKS': '102727.64162580004',\n",
       " 'AGRO': '102676.35200000007',\n",
       " 'UKUZ': '102506.90999999992',\n",
       " 'CNTL': '102493.41872000003',\n",
       " 'KAZT': '102481.10464000003',\n",
       " 'MRKK': '102469.978144',\n",
       " 'RTKM': '102452.06551000016',\n",
       " 'UWGN': '102250.16953000012',\n",
       " 'ELTZ': '102155.04159999978',\n",
       " 'BLNG': '101978.17848480005',\n",
       " 'TGKA': '101969.74893473956',\n",
       " 'NSVZ': '101942.01539999995',\n",
       " 'MSRS': '101936.34772749998',\n",
       " 'KTSBP': '101871.32227220002',\n",
       " 'JNOS': '101788.376325',\n",
       " 'ARSA': '101750.33628599995',\n",
       " 'KMAZ': '101735.76791000008',\n",
       " 'AMEZ': '101693.921684',\n",
       " 'FEES': '101650.43154157187',\n",
       " 'BSPB': '101650.00153499997',\n",
       " 'VRSB': '101645.78064',\n",
       " 'LVHK': '101597.67602800009',\n",
       " 'GLTR': '101553.02239999994',\n",
       " 'KRKN': '101544.205',\n",
       " 'KRSB': '101538.43845599999',\n",
       " 'KZOS': '101533.84927',\n",
       " 'TGKBP': '101484.041916334',\n",
       " 'SVET': '101452.59291399998',\n",
       " 'DZRD': '101448.14399999997',\n",
       " 'DIOD': '101434.97534500003',\n",
       " 'DZRDP': '101427.11199999998',\n",
       " 'PMSBP': '101404.75454000002',\n",
       " 'SAREP': '101403.87025036004',\n",
       " 'TTLK': '101401.35018750005',\n",
       " 'HYDR': '101372.16972429998',\n",
       " 'POGR': '101351.0227900001',\n",
       " 'LNTA': '101310.68306000008',\n",
       " 'DSKY': '101299.952544',\n",
       " 'CHMK': '101285.24049999999',\n",
       " 'NVTK': '101261.57399999994',\n",
       " 'SARE': '101259.38542759998',\n",
       " 'IRGZ': '101241.38349599991',\n",
       " 'URKZ': '101233.384',\n",
       " 'OBUV': '101216.59924999998',\n",
       " 'BANEP': '101170.64259999998',\n",
       " 'LPSB': '101170.05454000004',\n",
       " 'GEMA': '101150.22160000002',\n",
       " 'BANE': '101104.65279999998',\n",
       " 'SVAV': '101104.18',\n",
       " 'UCSS': '101091.11000000002',\n",
       " 'AFKS': '101076.78549759994',\n",
       " 'RBCM': '101071.5954899999',\n",
       " 'VRSBP': '101053.0556',\n",
       " 'AQUA': '101035.22750000001',\n",
       " 'ISKJ': '101026.04090799992',\n",
       " 'ALRS': '101003.20451199995',\n",
       " 'FIXP': '100983.88913000001',\n",
       " 'LSNGP': '100975.23683999985',\n",
       " 'SBER': '100969.972027',\n",
       " 'CHEP': '100951.09120000004',\n",
       " 'BISVP': '100950.67730800001',\n",
       " 'SELG': '100927.27487700006',\n",
       " 'LNZLP': '100924.82',\n",
       " 'SNGS': '100897.60165249997',\n",
       " 'DVEC': '100870.09519600008',\n",
       " 'KRKOP': '100833.59185000003',\n",
       " 'CHGZ': '100811.95596',\n",
       " 'MRKV': '100792.35075527504',\n",
       " 'PAZA': '100786.77099999998',\n",
       " 'YRSB': '100746.78499999997',\n",
       " 'KGKC': '100733.8549',\n",
       " 'FIVE': '100733.7022',\n",
       " 'ENPG': '100730.18000000004',\n",
       " 'SAGOP': '100713.18187629999',\n",
       " 'LSRG': '100710.74238000001',\n",
       " 'IRKT': '100703.13316000001',\n",
       " 'ROST': '100698.02238000001',\n",
       " 'AFLT': '100689.27942199999',\n",
       " 'LNZL': '100662.59899999999',\n",
       " 'RZSB': '100660.07645200002',\n",
       " 'RDRB': '100654.30400000003',\n",
       " 'MRKZ': '100650.59199699998',\n",
       " 'YAKG': '100648.02964999997',\n",
       " 'SLEN': '100633.08346299999',\n",
       " 'NNSB': '100615.71800000002',\n",
       " 'KTSB': '100607.73193',\n",
       " 'NAUK': '100602.81584000004',\n",
       " 'RSTIP': '100601.55692000002',\n",
       " 'IGSTP': '100597.78719999998',\n",
       " 'TUZA': '100595.17',\n",
       " 'SAGO': '100589.04743200002',\n",
       " 'UTAR': '100587.31815999998',\n",
       " 'MTSS': '100572.27549999996',\n",
       " 'ETLN': '100563.44213200003',\n",
       " 'AKRN': '100552.02100000002',\n",
       " 'ZVEZ': '100549.31529099999',\n",
       " 'MISB': '100503.60895000002',\n",
       " 'CHKZ': '100503.32799999996',\n",
       " 'UNAC': '100502.02079200011',\n",
       " 'KBSB': '100481.70775',\n",
       " 'PLZL': '100477.77160000001',\n",
       " 'KUZB': '100441.22482159603',\n",
       " 'SELGP': '100440.10105000003',\n",
       " 'ROSB': '100439.13983999999',\n",
       " 'VGSB': '100425.05623899998',\n",
       " 'WTCMP': '100422.07705600001',\n",
       " 'TGKD': '100417.38972528983',\n",
       " 'MGNZ': '100409.12599999995',\n",
       " 'HALS': '100408.60470000001',\n",
       " 'MSNG': '100380.05113480001',\n",
       " 'YKENP': '100375.16456599999',\n",
       " 'SNGSP': '100372.05303849993',\n",
       " 'RUSI': '100371.50344000001',\n",
       " 'MTLRP': '100369.89790000001',\n",
       " 'SFIN': '100328.74055999996',\n",
       " 'KAZTP': '100276.19174',\n",
       " 'MISBP': '100273.83663999998',\n",
       " 'SBERP': '100223.68824999999',\n",
       " 'KLSB': '100206.43432599999',\n",
       " 'ROLO': '100197.73315520014',\n",
       " 'NLMK': '100189.83538000006',\n",
       " 'TASB': '100164.72934800001',\n",
       " 'OGKB': '100161.25770952002',\n",
       " 'MFGS': '100153.6249',\n",
       " 'RTKMP': '100152.21587500005',\n",
       " 'LSNG': '100146.27774200012',\n",
       " 'NKNCP': '100137.25456000002',\n",
       " 'KRSBP': '100128.09791800003',\n",
       " 'RTSB': '100125.21047950002',\n",
       " 'TATNP': '100117.21309000015',\n",
       " 'YRSBP': '100080.21640000002',\n",
       " 'CNTLP': '100078.62324799999',\n",
       " 'ALBK': '100060.32925',\n",
       " 'STSB': '100058.07434500002',\n",
       " 'MAGE': '100052.53540600004',\n",
       " 'PIKK': '100040.95525',\n",
       " 'NKSH': '100040.30118400004',\n",
       " 'MRKP': '100034.43539967996',\n",
       " 'KRKNP': '100033.996',\n",
       " 'RAVN': '100022.32342',\n",
       " 'IGST': '100021.7848',\n",
       " 'GTRK': '100005.19023999995'}"
      ]
     },
     "execution_count": 25,
     "metadata": {},
     "output_type": "execute_result"
    }
   ],
   "source": [
    "bt_result"
   ]
  },
  {
   "cell_type": "code",
   "execution_count": 30,
   "id": "planned-hygiene",
   "metadata": {},
   "outputs": [],
   "source": [
    "with open('PROFITABLE_TICKERS.pickle', 'wb') as file:\n",
    "    pickle.dump(list(bt_result.keys()), file)"
   ]
  }
 ],
 "metadata": {
  "kernelspec": {
   "display_name": "Python 3",
   "language": "python",
   "name": "python3"
  },
  "language_info": {
   "codemirror_mode": {
    "name": "ipython",
    "version": 3
   },
   "file_extension": ".py",
   "mimetype": "text/x-python",
   "name": "python",
   "nbconvert_exporter": "python",
   "pygments_lexer": "ipython3",
   "version": "3.8.5"
  }
 },
 "nbformat": 4,
 "nbformat_minor": 5
}
