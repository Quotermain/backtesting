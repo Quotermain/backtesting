{
 "cells": [
  {
   "cell_type": "markdown",
   "id": "excessive-newman",
   "metadata": {},
   "source": [
    "# Parsing file with backtesting result"
   ]
  },
  {
   "cell_type": "code",
   "execution_count": 57,
   "id": "narrow-candidate",
   "metadata": {},
   "outputs": [],
   "source": [
    "import pickle"
   ]
  },
  {
   "cell_type": "code",
   "execution_count": 58,
   "id": "affiliated-listing",
   "metadata": {},
   "outputs": [],
   "source": [
    "result_path = 'results/bollinger_rsi60min70_30/result.pickle'\n",
    "#result_path = 'results/bollinger_rsi60min80_20/result.pickle'\n",
    "#result_path = 'results/rsi60min80_20/result.pickle'"
   ]
  },
  {
   "cell_type": "code",
   "execution_count": 59,
   "id": "recreational-transcript",
   "metadata": {},
   "outputs": [],
   "source": [
    "with open(result_path, 'rb') as file:\n",
    "    backtesting_result = pickle.load(file)"
   ]
  },
  {
   "cell_type": "code",
   "execution_count": 60,
   "id": "olive-badge",
   "metadata": {},
   "outputs": [],
   "source": [
    "backtesting_result = [byte_string.decode(\"utf-8\") for byte_string in backtesting_result]"
   ]
  },
  {
   "cell_type": "code",
   "execution_count": 26,
   "id": "everyday-boston",
   "metadata": {},
   "outputs": [
    {
     "data": {
      "text/plain": [
       "310"
      ]
     },
     "execution_count": 26,
     "metadata": {},
     "output_type": "execute_result"
    }
   ],
   "source": [
    "len(backtesting_result)"
   ]
  },
  {
   "cell_type": "markdown",
   "id": "reflected-candle",
   "metadata": {},
   "source": [
    "#### Calculating the whole financial result across all assets"
   ]
  },
  {
   "cell_type": "code",
   "execution_count": 43,
   "id": "important-copyright",
   "metadata": {},
   "outputs": [],
   "source": [
    "# '--' is added as the separator to extract ticker and final financial result\n",
    "end_fin_results = [string.split('--') for string in backtesting_result]"
   ]
  },
  {
   "cell_type": "code",
   "execution_count": 52,
   "id": "weighted-violin",
   "metadata": {},
   "outputs": [],
   "source": [
    "# Only the second element has the needed result\n",
    "bt_result = []\n",
    "for result in end_fin_results:\n",
    "    try:\n",
    "        bt_result.append(result[1])\n",
    "    except Exception as e:\n",
    "        continue"
   ]
  },
  {
   "cell_type": "code",
   "execution_count": 45,
   "id": "canadian-reservoir",
   "metadata": {},
   "outputs": [
    {
     "data": {
      "text/plain": [
       "239"
      ]
     },
     "execution_count": 45,
     "metadata": {},
     "output_type": "execute_result"
    }
   ],
   "source": [
    "len(bt_result)"
   ]
  },
  {
   "cell_type": "code",
   "execution_count": 53,
   "id": "applicable-firmware",
   "metadata": {},
   "outputs": [],
   "source": [
    "# Forms a dict from the string of format 'ticker financial_result' and filtes it\n",
    "bt_result = {\n",
    "    result.split(' ')[0]: float(result.split(' ')[1]) for result in bt_result\n",
    "    #if float(result.split(' ')[1]) > 100000\n",
    "}"
   ]
  },
  {
   "cell_type": "code",
   "execution_count": 54,
   "id": "conditional-works",
   "metadata": {},
   "outputs": [
    {
     "data": {
      "text/plain": [
       "239"
      ]
     },
     "execution_count": 54,
     "metadata": {},
     "output_type": "execute_result"
    }
   ],
   "source": [
    "len(bt_result)"
   ]
  },
  {
   "cell_type": "code",
   "execution_count": 55,
   "id": "saving-rough",
   "metadata": {},
   "outputs": [],
   "source": [
    "bt_result = dict(sorted(bt_result.items(), key=lambda item: item[1], reverse=True))"
   ]
  },
  {
   "cell_type": "code",
   "execution_count": 34,
   "id": "necessary-seminar",
   "metadata": {},
   "outputs": [
    {
     "data": {
      "text/plain": [
       "1613121.0756625205"
      ]
     },
     "execution_count": 34,
     "metadata": {},
     "output_type": "execute_result"
    }
   ],
   "source": [
    "sum([float(fin_result) - 100000 for fin_result in bt_result.values()])"
   ]
  },
  {
   "cell_type": "code",
   "execution_count": 81,
   "id": "second-junction",
   "metadata": {},
   "outputs": [
    {
     "data": {
      "text/plain": [
       "{'RNFT': 147694.25763999938,\n",
       " 'RLMNP': 129352.22633200024,\n",
       " 'APTK': 126006.87571580059,\n",
       " 'KMAZ': 123317.43338999979,\n",
       " 'FIVE': 123278.60500000045,\n",
       " 'SVAV': 122394.42940000004,\n",
       " 'ENRU': 121687.70059774986,\n",
       " 'AGRO': 121600.2955,\n",
       " 'MOBB': 121534.8307999997,\n",
       " 'MGTS': 120881.67399999991,\n",
       " 'RAVN': 119655.65076999996,\n",
       " 'LSNG': 118952.53138999981,\n",
       " 'UPRO': 118756.9265524005,\n",
       " 'OGKB': 118738.92019347977,\n",
       " 'MRKU': 118736.06512480004,\n",
       " 'MTSS': 118088.67484000031,\n",
       " 'GTRK': 115399.75888000055,\n",
       " 'URKZ': 115145.576,\n",
       " 'TGKDP': 114645.66618337749,\n",
       " 'RBCM': 114594.95418760015,\n",
       " 'DZRDP': 114370.84600000014,\n",
       " 'OBUV': 114353.53790000001,\n",
       " 'BANE': 114296.80640000006,\n",
       " 'KAZT': 114234.01391999998,\n",
       " 'RUAL': 114154.93202200026,\n",
       " 'VLHZ': 114137.51415499992,\n",
       " 'KUZB': 114094.383109936,\n",
       " 'UWGN': 113949.28800999997,\n",
       " 'MRKK': 113811.95843200014,\n",
       " 'BSPB': 113698.8774649997,\n",
       " 'UNAC': 113330.23825600027,\n",
       " 'GCHE': 113296.59340000025,\n",
       " 'LSRG': 113177.92234000043,\n",
       " 'KBSB': 112911.36144999992,\n",
       " 'MRKV': 112897.39012465115,\n",
       " 'ENPG': 112564.52039999982,\n",
       " 'MRKZ': 112535.43980702494,\n",
       " 'TGKD': 112421.50807666956,\n",
       " 'MRKY': 112374.39067898007,\n",
       " 'YKENP': 112191.89274200014,\n",
       " 'RUSI': 111909.31461999995,\n",
       " 'NNSBP': 111605.08959999993,\n",
       " 'SLEN': 111277.4051980002,\n",
       " 'HALS': 111194.80179999988,\n",
       " 'DSKY': 111163.89788800006,\n",
       " 'ARSA': 111016.99706699992,\n",
       " 'RDRB': 110923.17240000007,\n",
       " 'AKRN': 110401.01600000013,\n",
       " 'VZRZP': 110397.9295000001,\n",
       " 'NKHP': 110340.38244999993,\n",
       " 'KBTK': 110303.8247600002,\n",
       " 'PMSBP': 110264.61632000029,\n",
       " 'RTKM': 110130.53578800014,\n",
       " 'KUBE': 110078.93302000005,\n",
       " 'GAZA': 110051.69374999999,\n",
       " 'WTCM': 109898.53391999997,\n",
       " 'CBOM': 109801.30922119999,\n",
       " 'SAGO': 109756.96652000028,\n",
       " 'SAREP': 109649.69203184007,\n",
       " 'MRKC': 109386.08092783992,\n",
       " 'LNZLP': 109266.22400000007,\n",
       " 'RSTIP': 109226.69977799994,\n",
       " 'MAIL': 109128.56472000011,\n",
       " 'MAGE': 109066.44385899996,\n",
       " 'ABRD': 109055.60670000095,\n",
       " 'FESH': 108936.44651900022,\n",
       " 'MGTSP': 108730.58199999986,\n",
       " 'VSMO': 108668.188,\n",
       " 'HHRU': 108601.21120000021,\n",
       " 'WTCMP': 108568.37622400033,\n",
       " 'RUSP': 108501.70681920022,\n",
       " 'NKNC': 108440.80488999974,\n",
       " 'STSB': 108399.18431799991,\n",
       " 'MRKS': 108374.05381189987,\n",
       " 'OKEY': 108270.18292799997,\n",
       " 'MFGS': 108228.37509999992,\n",
       " 'ROST': 108206.41844000023,\n",
       " 'FEES': 108199.12575255391,\n",
       " 'TGKA': 108057.25966051669,\n",
       " 'ETLN': 108040.90520200018,\n",
       " 'YKEN': 107990.53834239993,\n",
       " 'TATNP': 107948.70301000011,\n",
       " 'MISB': 107933.3184999999,\n",
       " 'KGKC': 107906.79055000024,\n",
       " 'VGSB': 107874.42104500016,\n",
       " 'SFIN': 107811.08451999979,\n",
       " 'NMTP': 107798.29547799927,\n",
       " 'MFGSP': 107752.7398,\n",
       " 'TUZA': 107714.41899999998,\n",
       " 'LSNGP': 107695.65874000017,\n",
       " 'JNOS': 107608.88697499997,\n",
       " 'KRKN': 107603.17000000014,\n",
       " 'UTAR': 107553.87130999997,\n",
       " 'CHKZ': 107540.01400000007,\n",
       " 'NKNCP': 107466.48989199934,\n",
       " 'ELTZ': 107424.67839999915,\n",
       " 'BLNG': 107385.3660608002,\n",
       " 'TTLK': 107237.08289490004,\n",
       " 'MTLRP': 107212.49244999983,\n",
       " 'TASBP': 107210.06114875016,\n",
       " 'SARE': 107200.75027839988,\n",
       " 'TRCN': 107026.56599999999,\n",
       " 'KRKNP': 106967.49600000029,\n",
       " 'CHGZ': 106905.23599999995,\n",
       " 'IGST': 106861.99399999996,\n",
       " 'MRKP': 106640.55479823996,\n",
       " 'MSRS': 106597.8773440004,\n",
       " 'AFKS': 106576.7556735999,\n",
       " 'KAZTP': 106549.70098000002,\n",
       " 'QIWI': 106510.6024999999,\n",
       " 'PMSB': 106497.35400999998,\n",
       " 'BRZL': 106425.16299999988,\n",
       " 'TNSE': 106373.37399999998,\n",
       " 'SELG': 106358.38999699987,\n",
       " 'RKKE': 106149.791,\n",
       " 'BANEP': 106063.64919999967,\n",
       " 'MSNG': 105844.07110375009,\n",
       " 'SNGSP': 105771.817909,\n",
       " 'RZSB': 105697.88713900004,\n",
       " 'TASB': 105659.87497199998,\n",
       " 'UKUZ': 105590.51919999995,\n",
       " 'GLTR': 105480.95423999992,\n",
       " 'LNZL': 105340.57399999992,\n",
       " 'IRKT': 105223.10201000024,\n",
       " 'MISBP': 105202.56814000025,\n",
       " 'NFAZ': 105061.06919999991,\n",
       " 'BISVP': 105060.99764800012,\n",
       " 'MRSB': 105029.4177947999,\n",
       " 'PAZA': 104988.8300000002,\n",
       " 'MAGEP': 104941.3104159999,\n",
       " 'RTSB': 104894.22917050008,\n",
       " 'NSVZ': 104698.83440000007,\n",
       " 'AQUA': 104646.48124999998,\n",
       " 'LVHK': 104624.8097219999,\n",
       " 'NKSH': 104578.6231040001,\n",
       " 'KGKCP': 104423.0432499999,\n",
       " 'AMEZ': 104420.60200399964,\n",
       " 'KCHE': 104268.2246574,\n",
       " 'CHEP': 104135.88320000026,\n",
       " 'RLMN': 104084.81240000011,\n",
       " 'ROLO': 104060.57022520022,\n",
       " 'IRGZ': 104056.77939199975,\n",
       " 'USBN': 104045.53655427994,\n",
       " 'SAGOP': 103996.50675759994,\n",
       " 'JNOSP': 103956.74538400007,\n",
       " 'PHOR': 103910.12959999977,\n",
       " 'HIMCP': 103859.69033799994,\n",
       " 'IGSTP': 103726.87419999999,\n",
       " 'MDMG': 103617.73906000002,\n",
       " 'TORS': 103597.64936439996,\n",
       " 'DIOD': 103462.674064,\n",
       " 'LPSB': 103457.5937349998,\n",
       " 'MGNZ': 103452.09100000009,\n",
       " 'KZOS': 103438.62307000025,\n",
       " 'OZON': 103365.9736000001,\n",
       " 'UCSS': 103341.73999999993,\n",
       " 'VRSBP': 103290.3356,\n",
       " 'ROSB': 103245.36831999988,\n",
       " 'NAUK': 103243.87954000011,\n",
       " 'OPIN': 103203.81879999995,\n",
       " 'DASB': 103172.86164196,\n",
       " 'SIBN': 103092.08050000011,\n",
       " 'YAKG': 103054.40603400007,\n",
       " 'YRSBP': 102954.16219999999,\n",
       " 'ZVEZ': 102932.48566450014,\n",
       " 'GAZAP': 102921.90639999989,\n",
       " 'ROSN': 102890.24362000043,\n",
       " 'VRSB': 102790.22464,\n",
       " 'KLSB': 102625.89191799996,\n",
       " 'RTKMP': 102601.88187499999,\n",
       " 'NVTK': 102594.42519999997,\n",
       " 'NNSB': 102547.6700000001,\n",
       " 'DZRD': 102384.3831999999,\n",
       " 'RGSS': 102299.78603743979,\n",
       " 'ALRS': 102269.76688000011,\n",
       " 'VJGZ': 102242.00050000004,\n",
       " 'KRKOP': 102196.72131249985,\n",
       " 'STSBP': 102128.50693204017,\n",
       " 'YRSB': 102076.47699999998,\n",
       " 'OMZZP': 101990.64049999998,\n",
       " 'PRTK': 101976.68012000003,\n",
       " 'SMLT': 101944.68305999978,\n",
       " 'POLY': 101885.34511000005,\n",
       " 'TGKN': 101831.49561922804,\n",
       " 'KMEZ': 101814.47919999989,\n",
       " 'ALBK': 101793.52224999995,\n",
       " 'ORUP': 101588.19083500002,\n",
       " 'RASP': 101437.11982400031,\n",
       " 'KTSBP': 101430.65432340004,\n",
       " 'ASSB': 101412.89058105015,\n",
       " 'TORSP': 101354.18333049989,\n",
       " 'FIXP': 101332.55107999999,\n",
       " 'MVID': 101314.9599999995,\n",
       " 'RSTI': 101087.90759656075,\n",
       " 'TCSG': 101087.43599999981,\n",
       " 'SVET': 101055.33912400005,\n",
       " 'AVAN': 100967.91399999982,\n",
       " 'UNKL': 100883.22500000018,\n",
       " 'SELGP': 100880.9239099999,\n",
       " 'TATN': 100875.10032999975,\n",
       " 'VSYDP': 100665.63199999988,\n",
       " 'CHMK': 100614.64150000001,\n",
       " 'VSYD': 100509.83599999997,\n",
       " 'DVEC': 100213.37034580011,\n",
       " 'MAGN': 100202.05870299983,\n",
       " 'ISKJ': 100037.20144100006,\n",
       " 'ALNU': 100000.0,\n",
       " 'KOGK': 100000.0,\n",
       " 'PRMB': 100000.0,\n",
       " 'RTGZ': 100000.0,\n",
       " 'TRNFP': 100000.0,\n",
       " 'PIKK': 99569.70194999999,\n",
       " 'KCHEP': 99531.45138310007,\n",
       " 'SBERP': 99269.01968999977,\n",
       " 'MSTT': 99253.75625000006,\n",
       " 'GAZP': 98977.06706800031,\n",
       " 'RTSBP': 98950.74062019988,\n",
       " 'CNTL': 98898.68732000016,\n",
       " 'NLMK': 98757.79296399993,\n",
       " 'VJGZP': 98552.28700000016,\n",
       " 'GEMA': 98508.82479999994,\n",
       " 'PLZL': 97559.11259999972,\n",
       " 'TGKBP': 97412.53427340393,\n",
       " 'CHMF': 97290.42823999985,\n",
       " 'SBER': 96988.58194599999,\n",
       " 'RUGR': 96830.21243160001,\n",
       " 'AFLT': 96786.57173000116,\n",
       " 'INGR': 96590.99080000022,\n",
       " 'IRAO': 96000.51703999969,\n",
       " 'MOEX': 95995.95656500015,\n",
       " 'BELU': 95528.34280000009,\n",
       " 'POGR': 95512.65874999983,\n",
       " 'MGNT': 93600.54049999983,\n",
       " 'SNGS': 93009.19325150043,\n",
       " 'VTBR': 91993.57261056344,\n",
       " 'GMKN': 90477.52980000022,\n",
       " 'HYDR': 87278.0979897999,\n",
       " 'CNTLP': 81397.54851200015,\n",
       " 'MTLR': 78058.14746400047}"
      ]
     },
     "execution_count": 81,
     "metadata": {},
     "output_type": "execute_result"
    }
   ],
   "source": [
    "bt_result"
   ]
  },
  {
   "cell_type": "code",
   "execution_count": 28,
   "id": "planned-hygiene",
   "metadata": {},
   "outputs": [],
   "source": [
    "'''with open('PROFITABLE_TICKERS.pickle', 'wb') as file:\n",
    "    pickle.dump(list(bt_result.keys()), file)'''"
   ]
  },
  {
   "cell_type": "markdown",
   "id": "numerous-happening",
   "metadata": {},
   "source": [
    "#### Analysis of the net results distribution for every assets"
   ]
  },
  {
   "cell_type": "code",
   "execution_count": 61,
   "id": "painful-income",
   "metadata": {},
   "outputs": [],
   "source": [
    "import re"
   ]
  },
  {
   "cell_type": "code",
   "execution_count": 72,
   "id": "tribal-member",
   "metadata": {},
   "outputs": [],
   "source": [
    "dict_of_net_results = {}\n",
    "for result in backtesting_result:\n",
    "    try:\n",
    "        # Splits ticker extraction on two steps for readability\n",
    "        ticker_and_result = result.split('--')[1]\n",
    "        ticker = ticker_and_result.split(' ')[0]\n",
    "                       \n",
    "        list_of_net_results = re.findall(r'NET (.*)', result)\n",
    "        list_of_net_results = list(map(float, list_of_net_results))\n",
    "        \n",
    "        dict_of_net_results[ticker] = list_of_net_results\n",
    "    except Exception as e:\n",
    "        pass"
   ]
  },
  {
   "cell_type": "code",
   "execution_count": 82,
   "id": "associate-projector",
   "metadata": {},
   "outputs": [
    {
     "data": {
      "text/plain": [
       "239"
      ]
     },
     "execution_count": 82,
     "metadata": {},
     "output_type": "execute_result"
    }
   ],
   "source": [
    "len(dict_of_net_results)"
   ]
  },
  {
   "cell_type": "code",
   "execution_count": 88,
   "id": "ongoing-single",
   "metadata": {},
   "outputs": [
    {
     "ename": "NameError",
     "evalue": "name 'mean' is not defined",
     "output_type": "error",
     "traceback": [
      "\u001b[0;31m---------------------------------------------------------------------------\u001b[0m",
      "\u001b[0;31mNameError\u001b[0m                                 Traceback (most recent call last)",
      "\u001b[0;32m<ipython-input-88-24fb399724e4>\u001b[0m in \u001b[0;36m<module>\u001b[0;34m\u001b[0m\n\u001b[0;32m----> 1\u001b[0;31m \u001b[0mmean\u001b[0m\u001b[0;34m(\u001b[0m\u001b[0mdict_of_net_results\u001b[0m\u001b[0;34m[\u001b[0m\u001b[0;34m'RNFT'\u001b[0m\u001b[0;34m]\u001b[0m\u001b[0;34m)\u001b[0m\u001b[0;34m\u001b[0m\u001b[0;34m\u001b[0m\u001b[0m\n\u001b[0m",
      "\u001b[0;31mNameError\u001b[0m: name 'mean' is not defined"
     ]
    }
   ],
   "source": [
    "(dict_of_net_results['RNFT'])"
   ]
  },
  {
   "cell_type": "markdown",
   "id": "centered-arrangement",
   "metadata": {},
   "source": [
    "# Test of correctness of indicators"
   ]
  },
  {
   "cell_type": "code",
   "execution_count": 1,
   "id": "looking-broadcasting",
   "metadata": {},
   "outputs": [],
   "source": [
    "import pandas as pd\n",
    "from ta.momentum import RSIIndicator"
   ]
  },
  {
   "cell_type": "code",
   "execution_count": 2,
   "id": "communist-mercury",
   "metadata": {},
   "outputs": [],
   "source": [
    "prices = pd.read_csv('/mnt/tick_prices/SBER.csv')"
   ]
  },
  {
   "cell_type": "code",
   "execution_count": 4,
   "id": "imported-minutes",
   "metadata": {},
   "outputs": [
    {
     "data": {
      "text/html": [
       "<div>\n",
       "<style scoped>\n",
       "    .dataframe tbody tr th:only-of-type {\n",
       "        vertical-align: middle;\n",
       "    }\n",
       "\n",
       "    .dataframe tbody tr th {\n",
       "        vertical-align: top;\n",
       "    }\n",
       "\n",
       "    .dataframe thead th {\n",
       "        text-align: right;\n",
       "    }\n",
       "</style>\n",
       "<table border=\"1\" class=\"dataframe\">\n",
       "  <thead>\n",
       "    <tr style=\"text-align: right;\">\n",
       "      <th></th>\n",
       "      <th>datetime</th>\n",
       "      <th>date</th>\n",
       "      <th>time</th>\n",
       "      <th>last</th>\n",
       "    </tr>\n",
       "  </thead>\n",
       "  <tbody>\n",
       "    <tr>\n",
       "      <th>31709941</th>\n",
       "      <td>1970-01-01 00:00:01.619117377</td>\n",
       "      <td>1970-01-01</td>\n",
       "      <td>00:00:01.619117</td>\n",
       "      <td>292.21</td>\n",
       "    </tr>\n",
       "    <tr>\n",
       "      <th>31709942</th>\n",
       "      <td>1970-01-01 00:00:01.619117377</td>\n",
       "      <td>1970-01-01</td>\n",
       "      <td>00:00:01.619117</td>\n",
       "      <td>292.21</td>\n",
       "    </tr>\n",
       "    <tr>\n",
       "      <th>31709943</th>\n",
       "      <td>1970-01-01 00:00:01.619117391</td>\n",
       "      <td>1970-01-01</td>\n",
       "      <td>00:00:01.619117</td>\n",
       "      <td>292.21</td>\n",
       "    </tr>\n",
       "    <tr>\n",
       "      <th>31709944</th>\n",
       "      <td>1970-01-01 00:00:01.619117391</td>\n",
       "      <td>1970-01-01</td>\n",
       "      <td>00:00:01.619117</td>\n",
       "      <td>292.21</td>\n",
       "    </tr>\n",
       "    <tr>\n",
       "      <th>31709945</th>\n",
       "      <td>1970-01-01 00:00:01.619117391</td>\n",
       "      <td>1970-01-01</td>\n",
       "      <td>00:00:01.619117</td>\n",
       "      <td>292.21</td>\n",
       "    </tr>\n",
       "  </tbody>\n",
       "</table>\n",
       "</div>"
      ],
      "text/plain": [
       "                               datetime        date             time    last\n",
       "31709941  1970-01-01 00:00:01.619117377  1970-01-01  00:00:01.619117  292.21\n",
       "31709942  1970-01-01 00:00:01.619117377  1970-01-01  00:00:01.619117  292.21\n",
       "31709943  1970-01-01 00:00:01.619117391  1970-01-01  00:00:01.619117  292.21\n",
       "31709944  1970-01-01 00:00:01.619117391  1970-01-01  00:00:01.619117  292.21\n",
       "31709945  1970-01-01 00:00:01.619117391  1970-01-01  00:00:01.619117  292.21"
      ]
     },
     "execution_count": 4,
     "metadata": {},
     "output_type": "execute_result"
    }
   ],
   "source": [
    "prices.tail()"
   ]
  },
  {
   "cell_type": "code",
   "execution_count": 11,
   "id": "brave-assist",
   "metadata": {},
   "outputs": [],
   "source": [
    "prices['datetime'] = pd.to_datetime(prices['datetime'])"
   ]
  },
  {
   "cell_type": "code",
   "execution_count": 13,
   "id": "forbidden-virgin",
   "metadata": {},
   "outputs": [],
   "source": [
    "prices.set_index('datetime', inplace=True)"
   ]
  },
  {
   "cell_type": "code",
   "execution_count": 15,
   "id": "serial-merchandise",
   "metadata": {},
   "outputs": [],
   "source": [
    "prices_resampled_60min = prices['last'].resample('60Min').ohlc()"
   ]
  },
  {
   "cell_type": "code",
   "execution_count": 17,
   "id": "mechanical-writing",
   "metadata": {},
   "outputs": [
    {
     "data": {
      "text/html": [
       "<div>\n",
       "<style scoped>\n",
       "    .dataframe tbody tr th:only-of-type {\n",
       "        vertical-align: middle;\n",
       "    }\n",
       "\n",
       "    .dataframe tbody tr th {\n",
       "        vertical-align: top;\n",
       "    }\n",
       "\n",
       "    .dataframe thead th {\n",
       "        text-align: right;\n",
       "    }\n",
       "</style>\n",
       "<table border=\"1\" class=\"dataframe\">\n",
       "  <thead>\n",
       "    <tr style=\"text-align: right;\">\n",
       "      <th></th>\n",
       "      <th>open</th>\n",
       "      <th>high</th>\n",
       "      <th>low</th>\n",
       "      <th>close</th>\n",
       "    </tr>\n",
       "    <tr>\n",
       "      <th>datetime</th>\n",
       "      <th></th>\n",
       "      <th></th>\n",
       "      <th></th>\n",
       "      <th></th>\n",
       "    </tr>\n",
       "  </thead>\n",
       "  <tbody>\n",
       "    <tr>\n",
       "      <th>2021-04-22 14:00:00</th>\n",
       "      <td>287.52</td>\n",
       "      <td>293.15</td>\n",
       "      <td>287.32</td>\n",
       "      <td>292.39</td>\n",
       "    </tr>\n",
       "    <tr>\n",
       "      <th>2021-04-22 15:00:00</th>\n",
       "      <td>292.40</td>\n",
       "      <td>293.60</td>\n",
       "      <td>291.61</td>\n",
       "      <td>292.89</td>\n",
       "    </tr>\n",
       "    <tr>\n",
       "      <th>2021-04-22 16:00:00</th>\n",
       "      <td>292.92</td>\n",
       "      <td>294.67</td>\n",
       "      <td>292.51</td>\n",
       "      <td>293.69</td>\n",
       "    </tr>\n",
       "    <tr>\n",
       "      <th>2021-04-22 17:00:00</th>\n",
       "      <td>293.63</td>\n",
       "      <td>293.87</td>\n",
       "      <td>292.36</td>\n",
       "      <td>293.28</td>\n",
       "    </tr>\n",
       "    <tr>\n",
       "      <th>2021-04-22 18:00:00</th>\n",
       "      <td>293.27</td>\n",
       "      <td>293.42</td>\n",
       "      <td>292.00</td>\n",
       "      <td>292.21</td>\n",
       "    </tr>\n",
       "  </tbody>\n",
       "</table>\n",
       "</div>"
      ],
      "text/plain": [
       "                       open    high     low   close\n",
       "datetime                                           \n",
       "2021-04-22 14:00:00  287.52  293.15  287.32  292.39\n",
       "2021-04-22 15:00:00  292.40  293.60  291.61  292.89\n",
       "2021-04-22 16:00:00  292.92  294.67  292.51  293.69\n",
       "2021-04-22 17:00:00  293.63  293.87  292.36  293.28\n",
       "2021-04-22 18:00:00  293.27  293.42  292.00  292.21"
      ]
     },
     "execution_count": 17,
     "metadata": {},
     "output_type": "execute_result"
    }
   ],
   "source": [
    "prices_resampled_60min.tail()"
   ]
  },
  {
   "cell_type": "code",
   "execution_count": 19,
   "id": "enabling-principal",
   "metadata": {},
   "outputs": [],
   "source": [
    "rsi = RSIIndicator(close=prices_resampled_60min.close)"
   ]
  },
  {
   "cell_type": "code",
   "execution_count": 26,
   "id": "administrative-wonder",
   "metadata": {},
   "outputs": [
    {
     "data": {
      "text/plain": [
       "datetime\n",
       "2021-04-20 17:00:00    33.830679\n",
       "2021-04-20 18:00:00    43.758962\n",
       "2021-04-20 19:00:00    41.266837\n",
       "2021-04-20 20:00:00    43.960706\n",
       "2021-04-20 21:00:00    43.296993\n",
       "2021-04-20 22:00:00    44.401862\n",
       "2021-04-20 23:00:00    40.963540\n",
       "2021-04-21 00:00:00    40.963540\n",
       "2021-04-21 01:00:00    40.963540\n",
       "2021-04-21 02:00:00    40.963540\n",
       "2021-04-21 03:00:00    40.963540\n",
       "2021-04-21 04:00:00    40.963540\n",
       "2021-04-21 05:00:00    40.963540\n",
       "2021-04-21 06:00:00    40.963540\n",
       "2021-04-21 07:00:00    40.963540\n",
       "2021-04-21 08:00:00    40.963540\n",
       "2021-04-21 09:00:00    40.963540\n",
       "2021-04-21 10:00:00    67.759598\n",
       "2021-04-21 11:00:00    51.683164\n",
       "2021-04-21 12:00:00    42.531836\n",
       "2021-04-21 13:00:00    55.954915\n",
       "2021-04-21 14:00:00    52.281464\n",
       "2021-04-21 15:00:00    48.130044\n",
       "2021-04-21 16:00:00    47.464657\n",
       "2021-04-21 17:00:00    49.494871\n",
       "2021-04-21 18:00:00    46.620467\n",
       "2021-04-21 19:00:00    49.314924\n",
       "2021-04-21 20:00:00    50.269060\n",
       "2021-04-21 21:00:00    50.269060\n",
       "2021-04-21 22:00:00    56.518611\n",
       "2021-04-21 23:00:00    55.566704\n",
       "2021-04-22 00:00:00    55.566704\n",
       "2021-04-22 01:00:00    55.566704\n",
       "2021-04-22 02:00:00    55.566704\n",
       "2021-04-22 03:00:00    55.566704\n",
       "2021-04-22 04:00:00    55.566704\n",
       "2021-04-22 05:00:00    55.566704\n",
       "2021-04-22 06:00:00    55.566704\n",
       "2021-04-22 07:00:00    55.566704\n",
       "2021-04-22 08:00:00    55.566704\n",
       "2021-04-22 09:00:00    55.566704\n",
       "2021-04-22 10:00:00    40.584737\n",
       "2021-04-22 11:00:00    35.861418\n",
       "2021-04-22 12:00:00    33.656400\n",
       "2021-04-22 13:00:00    35.871897\n",
       "2021-04-22 14:00:00    73.926379\n",
       "2021-04-22 15:00:00    75.531787\n",
       "2021-04-22 16:00:00    77.878711\n",
       "2021-04-22 17:00:00    73.963177\n",
       "2021-04-22 18:00:00    64.805807\n",
       "Freq: 60T, Name: rsi, dtype: float64"
      ]
     },
     "execution_count": 26,
     "metadata": {},
     "output_type": "execute_result"
    }
   ],
   "source": [
    "rsi.rsi().tail(50)"
   ]
  }
 ],
 "metadata": {
  "kernelspec": {
   "display_name": "Python 3",
   "language": "python",
   "name": "python3"
  },
  "language_info": {
   "codemirror_mode": {
    "name": "ipython",
    "version": 3
   },
   "file_extension": ".py",
   "mimetype": "text/x-python",
   "name": "python",
   "nbconvert_exporter": "python",
   "pygments_lexer": "ipython3",
   "version": "3.8.5"
  }
 },
 "nbformat": 4,
 "nbformat_minor": 5
}
