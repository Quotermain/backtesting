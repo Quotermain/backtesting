{
 "cells": [
  {
   "cell_type": "markdown",
   "id": "excessive-newman",
   "metadata": {},
   "source": [
    "# Parsing file with bacjtesting result"
   ]
  },
  {
   "cell_type": "code",
   "execution_count": 1,
   "id": "narrow-candidate",
   "metadata": {},
   "outputs": [],
   "source": [
    "import pickle"
   ]
  },
  {
   "cell_type": "code",
   "execution_count": 16,
   "id": "recreational-transcript",
   "metadata": {},
   "outputs": [],
   "source": [
    "with open('result.pickle', 'rb') as file:\n",
    "    backtesting_result = pickle.load(file)"
   ]
  },
  {
   "cell_type": "code",
   "execution_count": 17,
   "id": "olive-badge",
   "metadata": {},
   "outputs": [],
   "source": [
    "backtesting_result = [byte_string.decode(\"utf-8\") for byte_string in backtesting_result]"
   ]
  },
  {
   "cell_type": "code",
   "execution_count": 18,
   "id": "important-copyright",
   "metadata": {},
   "outputs": [],
   "source": [
    "# '--' is added as the separator to extract ticker and final financial result\n",
    "backtesting_result = [string.split('--') for string in backtesting_result]"
   ]
  },
  {
   "cell_type": "code",
   "execution_count": 22,
   "id": "weighted-violin",
   "metadata": {},
   "outputs": [],
   "source": [
    "# Only the second element has the needed result\n",
    "bt_result = []\n",
    "for result in backtesting_result:\n",
    "    try:\n",
    "        bt_result.append(result[1])\n",
    "    except Exception as e:\n",
    "        continue"
   ]
  },
  {
   "cell_type": "code",
   "execution_count": 23,
   "id": "applicable-firmware",
   "metadata": {},
   "outputs": [],
   "source": [
    "# Forms a dict from the string of format 'ticker financial_result' and filtes it\n",
    "bt_result = {\n",
    "    result.split(' ')[0]: result.split(' ')[1] for result in bt_result\n",
    "    if float(result.split(' ')[1]) > 100000\n",
    "}"
   ]
  },
  {
   "cell_type": "code",
   "execution_count": 24,
   "id": "saving-rough",
   "metadata": {},
   "outputs": [],
   "source": [
    "bt_result = dict(sorted(bt_result.items(), key=lambda item: item[1], reverse=True))"
   ]
  },
  {
   "cell_type": "code",
   "execution_count": 28,
   "id": "planned-hygiene",
   "metadata": {},
   "outputs": [],
   "source": [
    "with open('PROFITABLE_TICKERS.pickle', 'wb') as file:\n",
    "    pickle.dump(list(bt_result.keys()), file)"
   ]
  },
  {
   "cell_type": "markdown",
   "id": "centered-arrangement",
   "metadata": {},
   "source": [
    "# Test of correctness of indicators"
   ]
  },
  {
   "cell_type": "code",
   "execution_count": 18,
   "id": "looking-broadcasting",
   "metadata": {},
   "outputs": [],
   "source": [
    "import pandas as pd\n",
    "from ta.momentum import RSIIndicator"
   ]
  },
  {
   "cell_type": "code",
   "execution_count": 10,
   "id": "communist-mercury",
   "metadata": {},
   "outputs": [],
   "source": [
    "prices = pd.read_csv('/mnt/tick_prices/SBER.csv')"
   ]
  },
  {
   "cell_type": "code",
   "execution_count": 11,
   "id": "brave-assist",
   "metadata": {},
   "outputs": [],
   "source": [
    "prices['datetime'] = pd.to_datetime(prices['datetime'])"
   ]
  },
  {
   "cell_type": "code",
   "execution_count": 13,
   "id": "forbidden-virgin",
   "metadata": {},
   "outputs": [],
   "source": [
    "prices.set_index('datetime', inplace=True)"
   ]
  },
  {
   "cell_type": "code",
   "execution_count": 15,
   "id": "serial-merchandise",
   "metadata": {},
   "outputs": [],
   "source": [
    "prices_resampled_60min = prices['last'].resample('60Min').ohlc()"
   ]
  },
  {
   "cell_type": "code",
   "execution_count": 17,
   "id": "mechanical-writing",
   "metadata": {},
   "outputs": [
    {
     "data": {
      "text/html": [
       "<div>\n",
       "<style scoped>\n",
       "    .dataframe tbody tr th:only-of-type {\n",
       "        vertical-align: middle;\n",
       "    }\n",
       "\n",
       "    .dataframe tbody tr th {\n",
       "        vertical-align: top;\n",
       "    }\n",
       "\n",
       "    .dataframe thead th {\n",
       "        text-align: right;\n",
       "    }\n",
       "</style>\n",
       "<table border=\"1\" class=\"dataframe\">\n",
       "  <thead>\n",
       "    <tr style=\"text-align: right;\">\n",
       "      <th></th>\n",
       "      <th>open</th>\n",
       "      <th>high</th>\n",
       "      <th>low</th>\n",
       "      <th>close</th>\n",
       "    </tr>\n",
       "    <tr>\n",
       "      <th>datetime</th>\n",
       "      <th></th>\n",
       "      <th></th>\n",
       "      <th></th>\n",
       "      <th></th>\n",
       "    </tr>\n",
       "  </thead>\n",
       "  <tbody>\n",
       "    <tr>\n",
       "      <th>2021-04-22 14:00:00</th>\n",
       "      <td>287.52</td>\n",
       "      <td>293.15</td>\n",
       "      <td>287.32</td>\n",
       "      <td>292.39</td>\n",
       "    </tr>\n",
       "    <tr>\n",
       "      <th>2021-04-22 15:00:00</th>\n",
       "      <td>292.40</td>\n",
       "      <td>293.60</td>\n",
       "      <td>291.61</td>\n",
       "      <td>292.89</td>\n",
       "    </tr>\n",
       "    <tr>\n",
       "      <th>2021-04-22 16:00:00</th>\n",
       "      <td>292.92</td>\n",
       "      <td>294.67</td>\n",
       "      <td>292.51</td>\n",
       "      <td>293.69</td>\n",
       "    </tr>\n",
       "    <tr>\n",
       "      <th>2021-04-22 17:00:00</th>\n",
       "      <td>293.63</td>\n",
       "      <td>293.87</td>\n",
       "      <td>292.36</td>\n",
       "      <td>293.28</td>\n",
       "    </tr>\n",
       "    <tr>\n",
       "      <th>2021-04-22 18:00:00</th>\n",
       "      <td>293.27</td>\n",
       "      <td>293.42</td>\n",
       "      <td>292.00</td>\n",
       "      <td>292.21</td>\n",
       "    </tr>\n",
       "  </tbody>\n",
       "</table>\n",
       "</div>"
      ],
      "text/plain": [
       "                       open    high     low   close\n",
       "datetime                                           \n",
       "2021-04-22 14:00:00  287.52  293.15  287.32  292.39\n",
       "2021-04-22 15:00:00  292.40  293.60  291.61  292.89\n",
       "2021-04-22 16:00:00  292.92  294.67  292.51  293.69\n",
       "2021-04-22 17:00:00  293.63  293.87  292.36  293.28\n",
       "2021-04-22 18:00:00  293.27  293.42  292.00  292.21"
      ]
     },
     "execution_count": 17,
     "metadata": {},
     "output_type": "execute_result"
    }
   ],
   "source": [
    "prices_resampled_60min.tail()"
   ]
  },
  {
   "cell_type": "code",
   "execution_count": 19,
   "id": "enabling-principal",
   "metadata": {},
   "outputs": [],
   "source": [
    "rsi = RSIIndicator(close=prices_resampled_60min.close)"
   ]
  },
  {
   "cell_type": "code",
   "execution_count": 26,
   "id": "administrative-wonder",
   "metadata": {},
   "outputs": [
    {
     "data": {
      "text/plain": [
       "datetime\n",
       "2021-04-20 17:00:00    33.830679\n",
       "2021-04-20 18:00:00    43.758962\n",
       "2021-04-20 19:00:00    41.266837\n",
       "2021-04-20 20:00:00    43.960706\n",
       "2021-04-20 21:00:00    43.296993\n",
       "2021-04-20 22:00:00    44.401862\n",
       "2021-04-20 23:00:00    40.963540\n",
       "2021-04-21 00:00:00    40.963540\n",
       "2021-04-21 01:00:00    40.963540\n",
       "2021-04-21 02:00:00    40.963540\n",
       "2021-04-21 03:00:00    40.963540\n",
       "2021-04-21 04:00:00    40.963540\n",
       "2021-04-21 05:00:00    40.963540\n",
       "2021-04-21 06:00:00    40.963540\n",
       "2021-04-21 07:00:00    40.963540\n",
       "2021-04-21 08:00:00    40.963540\n",
       "2021-04-21 09:00:00    40.963540\n",
       "2021-04-21 10:00:00    67.759598\n",
       "2021-04-21 11:00:00    51.683164\n",
       "2021-04-21 12:00:00    42.531836\n",
       "2021-04-21 13:00:00    55.954915\n",
       "2021-04-21 14:00:00    52.281464\n",
       "2021-04-21 15:00:00    48.130044\n",
       "2021-04-21 16:00:00    47.464657\n",
       "2021-04-21 17:00:00    49.494871\n",
       "2021-04-21 18:00:00    46.620467\n",
       "2021-04-21 19:00:00    49.314924\n",
       "2021-04-21 20:00:00    50.269060\n",
       "2021-04-21 21:00:00    50.269060\n",
       "2021-04-21 22:00:00    56.518611\n",
       "2021-04-21 23:00:00    55.566704\n",
       "2021-04-22 00:00:00    55.566704\n",
       "2021-04-22 01:00:00    55.566704\n",
       "2021-04-22 02:00:00    55.566704\n",
       "2021-04-22 03:00:00    55.566704\n",
       "2021-04-22 04:00:00    55.566704\n",
       "2021-04-22 05:00:00    55.566704\n",
       "2021-04-22 06:00:00    55.566704\n",
       "2021-04-22 07:00:00    55.566704\n",
       "2021-04-22 08:00:00    55.566704\n",
       "2021-04-22 09:00:00    55.566704\n",
       "2021-04-22 10:00:00    40.584737\n",
       "2021-04-22 11:00:00    35.861418\n",
       "2021-04-22 12:00:00    33.656400\n",
       "2021-04-22 13:00:00    35.871897\n",
       "2021-04-22 14:00:00    73.926379\n",
       "2021-04-22 15:00:00    75.531787\n",
       "2021-04-22 16:00:00    77.878711\n",
       "2021-04-22 17:00:00    73.963177\n",
       "2021-04-22 18:00:00    64.805807\n",
       "Freq: 60T, Name: rsi, dtype: float64"
      ]
     },
     "execution_count": 26,
     "metadata": {},
     "output_type": "execute_result"
    }
   ],
   "source": [
    "rsi.rsi().tail(50)"
   ]
  }
 ],
 "metadata": {
  "kernelspec": {
   "display_name": "Python 3",
   "language": "python",
   "name": "python3"
  },
  "language_info": {
   "codemirror_mode": {
    "name": "ipython",
    "version": 3
   },
   "file_extension": ".py",
   "mimetype": "text/x-python",
   "name": "python",
   "nbconvert_exporter": "python",
   "pygments_lexer": "ipython3",
   "version": "3.8.5"
  }
 },
 "nbformat": 4,
 "nbformat_minor": 5
}
